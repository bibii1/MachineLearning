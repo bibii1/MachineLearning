{
  "nbformat": 4,
  "nbformat_minor": 0,
  "metadata": {
    "colab": {
      "name": "HeartFailurePrediction",
      "provenance": [],
      "collapsed_sections": [],
      "toc_visible": true
    },
    "kernelspec": {
      "name": "python3",
      "display_name": "Python 3"
    },
    "accelerator": "GPU"
  },
  "cells": [
    {
      "cell_type": "code",
      "metadata": {
        "id": "HCc5EXBt5NsU"
      },
      "source": [
        "import pandas as pd\n",
        "import seaborn as sns\n",
        "from sklearn.model_selection import train_test_split\n",
        "import numpy as np\n",
        "import matplotlib.pyplot as plt\n",
        "import plotly.express as px\n"
      ],
      "execution_count": null,
      "outputs": []
    },
    {
      "cell_type": "markdown",
      "metadata": {
        "id": "BrcE_LA37dgQ"
      },
      "source": [
        "Import des données"
      ]
    },
    {
      "cell_type": "code",
      "metadata": {
        "id": "IAEvySaE7gO-",
        "colab": {
          "base_uri": "https://localhost:8080/",
          "height": 379
        },
        "outputId": "1fff83c1-abb3-4141-c2e6-802b95ff5881"
      },
      "source": [
        "df = pd.read_csv(\"/content/heart_failure_clinical_records_dataset.csv\")\n",
        "df.head(10)\n",
        "#df.shape"
      ],
      "execution_count": null,
      "outputs": [
        {
          "output_type": "execute_result",
          "data": {
            "text/html": [
              "<div>\n",
              "<style scoped>\n",
              "    .dataframe tbody tr th:only-of-type {\n",
              "        vertical-align: middle;\n",
              "    }\n",
              "\n",
              "    .dataframe tbody tr th {\n",
              "        vertical-align: top;\n",
              "    }\n",
              "\n",
              "    .dataframe thead th {\n",
              "        text-align: right;\n",
              "    }\n",
              "</style>\n",
              "<table border=\"1\" class=\"dataframe\">\n",
              "  <thead>\n",
              "    <tr style=\"text-align: right;\">\n",
              "      <th></th>\n",
              "      <th>age</th>\n",
              "      <th>anaemia</th>\n",
              "      <th>creatinine_phosphokinase</th>\n",
              "      <th>diabetes</th>\n",
              "      <th>ejection_fraction</th>\n",
              "      <th>high_blood_pressure</th>\n",
              "      <th>platelets</th>\n",
              "      <th>serum_creatinine</th>\n",
              "      <th>serum_sodium</th>\n",
              "      <th>sex</th>\n",
              "      <th>smoking</th>\n",
              "      <th>time</th>\n",
              "      <th>DEATH_EVENT</th>\n",
              "    </tr>\n",
              "  </thead>\n",
              "  <tbody>\n",
              "    <tr>\n",
              "      <th>0</th>\n",
              "      <td>75.0</td>\n",
              "      <td>0</td>\n",
              "      <td>582</td>\n",
              "      <td>0</td>\n",
              "      <td>20</td>\n",
              "      <td>1</td>\n",
              "      <td>265000.00</td>\n",
              "      <td>1.9</td>\n",
              "      <td>130</td>\n",
              "      <td>1</td>\n",
              "      <td>0</td>\n",
              "      <td>4</td>\n",
              "      <td>1</td>\n",
              "    </tr>\n",
              "    <tr>\n",
              "      <th>1</th>\n",
              "      <td>55.0</td>\n",
              "      <td>0</td>\n",
              "      <td>7861</td>\n",
              "      <td>0</td>\n",
              "      <td>38</td>\n",
              "      <td>0</td>\n",
              "      <td>263358.03</td>\n",
              "      <td>1.1</td>\n",
              "      <td>136</td>\n",
              "      <td>1</td>\n",
              "      <td>0</td>\n",
              "      <td>6</td>\n",
              "      <td>1</td>\n",
              "    </tr>\n",
              "    <tr>\n",
              "      <th>2</th>\n",
              "      <td>65.0</td>\n",
              "      <td>0</td>\n",
              "      <td>146</td>\n",
              "      <td>0</td>\n",
              "      <td>20</td>\n",
              "      <td>0</td>\n",
              "      <td>162000.00</td>\n",
              "      <td>1.3</td>\n",
              "      <td>129</td>\n",
              "      <td>1</td>\n",
              "      <td>1</td>\n",
              "      <td>7</td>\n",
              "      <td>1</td>\n",
              "    </tr>\n",
              "    <tr>\n",
              "      <th>3</th>\n",
              "      <td>50.0</td>\n",
              "      <td>1</td>\n",
              "      <td>111</td>\n",
              "      <td>0</td>\n",
              "      <td>20</td>\n",
              "      <td>0</td>\n",
              "      <td>210000.00</td>\n",
              "      <td>1.9</td>\n",
              "      <td>137</td>\n",
              "      <td>1</td>\n",
              "      <td>0</td>\n",
              "      <td>7</td>\n",
              "      <td>1</td>\n",
              "    </tr>\n",
              "    <tr>\n",
              "      <th>4</th>\n",
              "      <td>65.0</td>\n",
              "      <td>1</td>\n",
              "      <td>160</td>\n",
              "      <td>1</td>\n",
              "      <td>20</td>\n",
              "      <td>0</td>\n",
              "      <td>327000.00</td>\n",
              "      <td>2.7</td>\n",
              "      <td>116</td>\n",
              "      <td>0</td>\n",
              "      <td>0</td>\n",
              "      <td>8</td>\n",
              "      <td>1</td>\n",
              "    </tr>\n",
              "    <tr>\n",
              "      <th>5</th>\n",
              "      <td>90.0</td>\n",
              "      <td>1</td>\n",
              "      <td>47</td>\n",
              "      <td>0</td>\n",
              "      <td>40</td>\n",
              "      <td>1</td>\n",
              "      <td>204000.00</td>\n",
              "      <td>2.1</td>\n",
              "      <td>132</td>\n",
              "      <td>1</td>\n",
              "      <td>1</td>\n",
              "      <td>8</td>\n",
              "      <td>1</td>\n",
              "    </tr>\n",
              "    <tr>\n",
              "      <th>6</th>\n",
              "      <td>75.0</td>\n",
              "      <td>1</td>\n",
              "      <td>246</td>\n",
              "      <td>0</td>\n",
              "      <td>15</td>\n",
              "      <td>0</td>\n",
              "      <td>127000.00</td>\n",
              "      <td>1.2</td>\n",
              "      <td>137</td>\n",
              "      <td>1</td>\n",
              "      <td>0</td>\n",
              "      <td>10</td>\n",
              "      <td>1</td>\n",
              "    </tr>\n",
              "    <tr>\n",
              "      <th>7</th>\n",
              "      <td>60.0</td>\n",
              "      <td>1</td>\n",
              "      <td>315</td>\n",
              "      <td>1</td>\n",
              "      <td>60</td>\n",
              "      <td>0</td>\n",
              "      <td>454000.00</td>\n",
              "      <td>1.1</td>\n",
              "      <td>131</td>\n",
              "      <td>1</td>\n",
              "      <td>1</td>\n",
              "      <td>10</td>\n",
              "      <td>1</td>\n",
              "    </tr>\n",
              "    <tr>\n",
              "      <th>8</th>\n",
              "      <td>65.0</td>\n",
              "      <td>0</td>\n",
              "      <td>157</td>\n",
              "      <td>0</td>\n",
              "      <td>65</td>\n",
              "      <td>0</td>\n",
              "      <td>263358.03</td>\n",
              "      <td>1.5</td>\n",
              "      <td>138</td>\n",
              "      <td>0</td>\n",
              "      <td>0</td>\n",
              "      <td>10</td>\n",
              "      <td>1</td>\n",
              "    </tr>\n",
              "    <tr>\n",
              "      <th>9</th>\n",
              "      <td>80.0</td>\n",
              "      <td>1</td>\n",
              "      <td>123</td>\n",
              "      <td>0</td>\n",
              "      <td>35</td>\n",
              "      <td>1</td>\n",
              "      <td>388000.00</td>\n",
              "      <td>9.4</td>\n",
              "      <td>133</td>\n",
              "      <td>1</td>\n",
              "      <td>1</td>\n",
              "      <td>10</td>\n",
              "      <td>1</td>\n",
              "    </tr>\n",
              "  </tbody>\n",
              "</table>\n",
              "</div>"
            ],
            "text/plain": [
              "    age  anaemia  creatinine_phosphokinase  ...  smoking  time  DEATH_EVENT\n",
              "0  75.0        0                       582  ...        0     4            1\n",
              "1  55.0        0                      7861  ...        0     6            1\n",
              "2  65.0        0                       146  ...        1     7            1\n",
              "3  50.0        1                       111  ...        0     7            1\n",
              "4  65.0        1                       160  ...        0     8            1\n",
              "5  90.0        1                        47  ...        1     8            1\n",
              "6  75.0        1                       246  ...        0    10            1\n",
              "7  60.0        1                       315  ...        1    10            1\n",
              "8  65.0        0                       157  ...        0    10            1\n",
              "9  80.0        1                       123  ...        1    10            1\n",
              "\n",
              "[10 rows x 13 columns]"
            ]
          },
          "metadata": {
            "tags": []
          },
          "execution_count": 7
        }
      ]
    },
    {
      "cell_type": "markdown",
      "metadata": {
        "id": "-pTVv33I8HK8"
      },
      "source": [
        "Type des variables"
      ]
    },
    {
      "cell_type": "code",
      "metadata": {
        "colab": {
          "base_uri": "https://localhost:8080/"
        },
        "id": "LRTR_Fsq8KZ8",
        "outputId": "30d7cbb0-a65f-410d-c382-6c9cc46b0c25"
      },
      "source": [
        "df.isna().sum()"
      ],
      "execution_count": null,
      "outputs": [
        {
          "output_type": "execute_result",
          "data": {
            "text/plain": [
              "age                         0\n",
              "anaemia                     0\n",
              "creatinine_phosphokinase    0\n",
              "diabetes                    0\n",
              "ejection_fraction           0\n",
              "high_blood_pressure         0\n",
              "platelets                   0\n",
              "serum_creatinine            0\n",
              "serum_sodium                0\n",
              "sex                         0\n",
              "smoking                     0\n",
              "time                        0\n",
              "DEATH_EVENT                 0\n",
              "dtype: int64"
            ]
          },
          "metadata": {
            "tags": []
          },
          "execution_count": 8
        }
      ]
    },
    {
      "cell_type": "markdown",
      "metadata": {
        "id": "V4Bm0f408tHQ"
      },
      "source": [
        "Proportion des death events"
      ]
    },
    {
      "cell_type": "code",
      "metadata": {
        "id": "pgmdorWh8wEZ"
      },
      "source": [
        "fig = px.pie(df,names=\"DEATH_EVENT\",title=\"Proportion of death events among the dataset\")\n",
        "fig.show()"
      ],
      "execution_count": null,
      "outputs": []
    },
    {
      "cell_type": "code",
      "metadata": {
        "colab": {
          "base_uri": "https://localhost:8080/",
          "height": 389
        },
        "id": "k4gK4YBu9fYa",
        "outputId": "756e32a8-e29c-4177-98ff-b4f99c14e5b9"
      },
      "source": [
        "hmap = sns.heatmap(df.corr())"
      ],
      "execution_count": null,
      "outputs": [
        {
          "output_type": "display_data",
          "data": {
            "image/png": "[encoded data removed]",
            "text/plain": [
              "<Figure size 432x288 with 2 Axes>"
            ]
          },
          "metadata": {
            "tags": [],
            "needs_background": "light"
          }
        }
      ]
    },
    {
      "cell_type": "code",
      "metadata": {
        "id": "v6CMZWP2-Inu"
      },
      "source": [
        "data = df.copy() # pour ne pas modifier l'import de base"
      ],
      "execution_count": null,
      "outputs": []
    },
    {
      "cell_type": "code",
      "metadata": {
        "colab": {
          "base_uri": "https://localhost:8080/"
        },
        "id": "NFm4oz3H-Pal",
        "outputId": "0ed861e6-517b-4f26-cb1d-ee59b74f73b6"
      },
      "source": [
        "corr = data.corr()\n",
        "corr[abs(corr['DEATH_EVENT'])>0.1]['DEATH_EVENT']"
      ],
      "execution_count": null,
      "outputs": [
        {
          "output_type": "execute_result",
          "data": {
            "text/plain": [
              "age                  0.253729\n",
              "ejection_fraction   -0.268603\n",
              "serum_creatinine     0.294278\n",
              "serum_sodium        -0.195204\n",
              "time                -0.526964\n",
              "DEATH_EVENT          1.000000\n",
              "Name: DEATH_EVENT, dtype: float64"
            ]
          },
          "metadata": {
            "tags": []
          },
          "execution_count": 11
        }
      ]
    },
    {
      "cell_type": "markdown",
      "metadata": {
        "id": "dgM_ouliBa0B"
      },
      "source": [
        "Ici nous observons que 5 variables ont une corrélation avec 'death event' > 0.1\n",
        "\n",
        "En revanche, je ne pense pas que la variable 'time' soit pertinente car ce type de variable ne serait pas disponible pour un diagnostic à un instant t\n",
        "De ce fait, cette variable sera exclue pour nos prédictions"
      ]
    },
    {
      "cell_type": "markdown",
      "metadata": {
        "id": "f9FucPt6DhT0"
      },
      "source": [
        "Splitting the data"
      ]
    },
    {
      "cell_type": "code",
      "metadata": {
        "id": "2vQ-sJZxCgTU"
      },
      "source": [
        "cols = ['ejection_fraction','serum_creatinine','serum_sodium']\n",
        "cols2 = ['ejection_fraction','serum_creatinine','serum_sodium','time']\n",
        "X = data[cols]\n",
        "Y = data['DEATH_EVENT']\n",
        "x_train,x_test,y_train,y_test = train_test_split(X,Y,random_state=1,test_size=0.2)\n",
        "x_train,x_val,y_train,y_val = train_test_split(x_train,y_train,random_state=1,test_size=0.3)"
      ],
      "execution_count": null,
      "outputs": []
    },
    {
      "cell_type": "markdown",
      "metadata": {
        "id": "9LGh8Po0E8ap"
      },
      "source": [
        "### LINEAR REGRESSION"
      ]
    },
    {
      "cell_type": "code",
      "metadata": {
        "colab": {
          "base_uri": "https://localhost:8080/",
          "height": 296
        },
        "id": "EJ9y7w98FA4W",
        "outputId": "24d20b0e-3e57-42eb-ed4c-9145abc21122"
      },
      "source": [
        "from sklearn.linear_model import LogisticRegression\n",
        "from sklearn.metrics import accuracy_score, plot_confusion_matrix\n",
        "\n",
        "lr = LogisticRegression(max_iter=250)\n",
        "lr.fit(x_train,y_train)\n",
        "pred = lr.predict(x_test)\n",
        "score = accuracy_score(y_test,pred)\n",
        "print(\"Accuracy for Logistic Regression :\",\"{:.2f}\".format(score*100))\n",
        "plot_confusion_matrix(lr, x_test, y_test)\n",
        "plt.show()"
      ],
      "execution_count": null,
      "outputs": [
        {
          "output_type": "stream",
          "text": [
            "Accuracy for Logistic Regression : 80.00\n"
          ],
          "name": "stdout"
        },
        {
          "output_type": "display_data",
          "data": {
            "image/png": "[encoded data removed]",
            "text/plain": [
              "<Figure size 432x288 with 2 Axes>"
            ]
          },
          "metadata": {
            "tags": [],
            "needs_background": "light"
          }
        }
      ]
    },
    {
      "cell_type": "markdown",
      "metadata": {
        "id": "9sYVqzwrHhyo"
      },
      "source": [
        "### KNN"
      ]
    },
    {
      "cell_type": "code",
      "metadata": {
        "colab": {
          "base_uri": "https://localhost:8080/",
          "height": 300
        },
        "id": "e-ZgleJrHlZL",
        "outputId": "64e42909-1944-4fdf-a44b-84e7474082fe"
      },
      "source": [
        "from sklearn.neighbors import KNeighborsClassifier\n",
        "\n",
        "res = []\n",
        "models = []\n",
        "for i in range(2,15):\n",
        "  models.append(KNeighborsClassifier(n_neighbors=i))\n",
        "  models[i-2].fit(x_train,y_train)\n",
        "  pred = models[i-2].predict(x_test)\n",
        "  res.append((accuracy_score(y_test,pred)*100,i))\n",
        "print(\"Best accuracy for KNN :\",\"{:.2f}\".format(max(res)[0]),\" and was obtained with k = {}\".format(max(res)[1]))\n",
        "plot_confusion_matrix(models[res.index(max(res))], x_test, y_test)\n",
        "plt.show()"
      ],
      "execution_count": null,
      "outputs": [
        {
          "output_type": "stream",
          "text": [
            "Best accuracy for KNN : 90.00  and was obtained with k = 14\n"
          ],
          "name": "stdout"
        },
        {
          "output_type": "display_data",
          "data": {
            "image/png": "[encoded data removed]",
            "text/plain": [
              "<Figure size 432x288 with 2 Axes>"
            ]
          },
          "metadata": {
            "tags": [],
            "needs_background": "light"
          }
        }
      ]
    },
    {
      "cell_type": "markdown",
      "metadata": {
        "id": "Mfau-YuXOH5K"
      },
      "source": [
        "### Decision Tree Classifier "
      ]
    },
    {
      "cell_type": "code",
      "metadata": {
        "colab": {
          "base_uri": "https://localhost:8080/",
          "height": 296
        },
        "id": "q0X_8yvUOLvK",
        "outputId": "f6c52357-503b-4177-a6c6-62b1eee22ab9"
      },
      "source": [
        "from sklearn.tree import DecisionTreeClassifier\n",
        "from sklearn.model_selection import StratifiedKFold, GridSearchCV\n",
        "\n",
        "# params = {'max_depth':[i for i in range(2,8)],\n",
        "#           'max_leaf_nodes': [i for i in range(2,15)]\n",
        "#          }\n",
        "\n",
        "# tree = DecisionTreeClassifier(criterion='entropy')\n",
        "# grid = GridSearchCV(estimator=tree,param_grid=params,n_jobs=4)\n",
        "# grid.fit(x_train,y_train)\n",
        "# pred = grid.best_estimator_.predict(x_test)\n",
        "# score = accuracy_score(y_test,pred)\n",
        "# print(\"Accuracy for Logistic Regression :\",\"{:.2f}\".format(score*100))\n",
        "# plot_confusion_matrix(grid.best_estimator_, x_test, y_test)\n",
        "# plt.show()\n",
        "\n",
        "res = []\n",
        "models = []\n",
        "for i in range(2,15):\n",
        "  models.append(DecisionTreeClassifier(max_leaf_nodes=i,criterion='entropy'))\n",
        "  models[i-2].fit(x_train,y_train)\n",
        "  pred = models[i-2].predict(x_test)\n",
        "  res.append((accuracy_score(y_test,pred)*100,i))\n",
        "print(\"Best accuracy for Decision Tree :\",\"{:.2f}\".format(max(res)[0]),\" and was obtained with max_leaf_nodes = {}\".format(max(res)[1]))\n",
        "plot_confusion_matrix(models[res.index(max(res))], x_test, y_test)\n",
        "plt.show()\n"
      ],
      "execution_count": null,
      "outputs": [
        {
          "output_type": "stream",
          "text": [
            "Best accuracy for Decision Tree : 86.67  and was obtained with max_leaf_nodes = 2\n"
          ],
          "name": "stdout"
        },
        {
          "output_type": "display_data",
          "data": {
            "image/png": "[encoded data removed]",
            "text/plain": [
              "<Figure size 432x288 with 2 Axes>"
            ]
          },
          "metadata": {
            "tags": [],
            "needs_background": "light"
          }
        }
      ]
    },
    {
      "cell_type": "markdown",
      "metadata": {
        "id": "_C-rSmwnTIuf"
      },
      "source": [
        "### Random Forest Classifier"
      ]
    },
    {
      "cell_type": "code",
      "metadata": {
        "colab": {
          "base_uri": "https://localhost:8080/",
          "height": 296
        },
        "id": "IopmO9o5TNEy",
        "outputId": "880cc94e-cab6-4474-810a-251c7f38da6b"
      },
      "source": [
        "from sklearn.ensemble import RandomForestClassifier\n",
        "\n",
        "rf = RandomForestClassifier(n_estimators=50,random_state=1,max_leaf_nodes=7)\n",
        "rf.fit(x_train,y_train)\n",
        "pred = rf.predict(x_test)\n",
        "score = accuracy_score(y_test,pred)\n",
        "print(\"Accuracy for Logistic Regression :\",\"{:.2f}\".format(score*100))\n",
        "plot_confusion_matrix(rf, x_test, y_test)\n",
        "plt.show()"
      ],
      "execution_count": null,
      "outputs": [
        {
          "output_type": "stream",
          "text": [
            "Accuracy for Logistic Regression : 88.33\n"
          ],
          "name": "stdout"
        },
        {
          "output_type": "display_data",
          "data": {
            "image/png": "[encoded data removed]",
            "text/plain": [
              "<Figure size 432x288 with 2 Axes>"
            ]
          },
          "metadata": {
            "tags": [],
            "needs_background": "light"
          }
        }
      ]
    },
    {
      "cell_type": "markdown",
      "metadata": {
        "id": "7QQdu57bUcN6"
      },
      "source": [
        "### XGB Classifier"
      ]
    },
    {
      "cell_type": "code",
      "metadata": {
        "colab": {
          "base_uri": "https://localhost:8080/"
        },
        "id": "dg79wlOUVWgE",
        "outputId": "743e8f45-6dcb-45e2-c335-ee6a3d4bd105"
      },
      "source": [
        "from xgboost import XGBClassifier\n",
        "from numpy import arange\n",
        "from sklearn.model_selection import StratifiedKFold, GridSearchCV\n",
        "\n",
        "params = {\n",
        "        'min_child_weight': [i for i in range(1,10,3)],\n",
        "        'gamma': [i for i in arange(0.5,6,0.5)],\n",
        "        'subsample': [i for i in arange(0.6,1,0.1)],\n",
        "        'colsample_bytree': [i for i in arange(0.6,1,0.1)],\n",
        "        'max_depth': [i for i in range(3,8)]\n",
        "        }\n",
        "\n",
        "\n",
        "xgb = XGBClassifier(learning_rate=0.01,n_estimators=1000,objective='binary:logistic')\n",
        "skf = StratifiedKFold(n_splits=5, shuffle = True, random_state = 0)\n",
        "grid = GridSearchCV(estimator=xgb,param_grid=params,n_jobs=4,cv=skf.split(x_train,y_train))\n",
        "grid.fit(x_train,y_train,early_stopping_rounds=30,eval_set=[(x_val,y_val)])\n",
        "print(grid.best_estimator_)\n",
        "pred = grid.best_estimator_.predict(x_test)\n",
        "score = accuracy_score(y_test,pred)\n",
        "print(\"Accuracy for XGB Classifier :\",\"{:.2f}\".format(score*100))\n",
        "plot_confusion_matrix(grid.best_estimator_, x_test, y_test)\n",
        "plt.show()\n"
      ],
      "execution_count": null,
      "outputs": [
        {
          "output_type": "stream",
          "text": [
            "[0]\tvalidation_0-error:0.166667\n",
            "Will train until validation_0-error hasn't improved in 30 rounds.\n",
            "[1]\tvalidation_0-error:0.222222\n",
            "[2]\tvalidation_0-error:0.180556\n",
            "[3]\tvalidation_0-error:0.166667\n",
            "[4]\tvalidation_0-error:0.138889\n",
            "[5]\tvalidation_0-error:0.152778\n",
            "[6]\tvalidation_0-error:0.138889\n",
            "[7]\tvalidation_0-error:0.236111\n",
            "[8]\tvalidation_0-error:0.138889\n",
            "[9]\tvalidation_0-error:0.194444\n",
            "[10]\tvalidation_0-error:0.180556\n",
            "[11]\tvalidation_0-error:0.166667\n",
            "[12]\tvalidation_0-error:0.125\n",
            "[13]\tvalidation_0-error:0.138889\n",
            "[14]\tvalidation_0-error:0.125\n",
            "[15]\tvalidation_0-error:0.152778\n",
            "[16]\tvalidation_0-error:0.152778\n",
            "[17]\tvalidation_0-error:0.194444\n",
            "[18]\tvalidation_0-error:0.138889\n",
            "[19]\tvalidation_0-error:0.194444\n",
            "[20]\tvalidation_0-error:0.180556\n",
            "[21]\tvalidation_0-error:0.180556\n",
            "[22]\tvalidation_0-error:0.180556\n",
            "[23]\tvalidation_0-error:0.180556\n",
            "[24]\tvalidation_0-error:0.194444\n",
            "[25]\tvalidation_0-error:0.180556\n",
            "[26]\tvalidation_0-error:0.180556\n",
            "[27]\tvalidation_0-error:0.194444\n",
            "[28]\tvalidation_0-error:0.180556\n",
            "[29]\tvalidation_0-error:0.194444\n",
            "[30]\tvalidation_0-error:0.194444\n",
            "[31]\tvalidation_0-error:0.194444\n",
            "[32]\tvalidation_0-error:0.166667\n",
            "[33]\tvalidation_0-error:0.194444\n",
            "[34]\tvalidation_0-error:0.166667\n",
            "[35]\tvalidation_0-error:0.180556\n",
            "[36]\tvalidation_0-error:0.180556\n",
            "[37]\tvalidation_0-error:0.180556\n",
            "[38]\tvalidation_0-error:0.180556\n",
            "[39]\tvalidation_0-error:0.180556\n",
            "[40]\tvalidation_0-error:0.194444\n",
            "[41]\tvalidation_0-error:0.194444\n",
            "[42]\tvalidation_0-error:0.194444\n",
            "Stopping. Best iteration:\n",
            "[12]\tvalidation_0-error:0.125\n",
            "\n",
            "XGBClassifier(base_score=0.5, booster='gbtree', colsample_bylevel=1,\n",
            "              colsample_bynode=1, colsample_bytree=0.6, gamma=2.5,\n",
            "              learning_rate=0.01, max_delta_step=0, max_depth=4,\n",
            "              min_child_weight=1, missing=None, n_estimators=1000, n_jobs=1,\n",
            "              nthread=None, objective='binary:logistic', random_state=0,\n",
            "              reg_alpha=0, reg_lambda=1, scale_pos_weight=1, seed=None,\n",
            "              silent=None, subsample=0.6, verbosity=1)\n",
            "Accuracy for XGB Classifier : 88.33\n"
          ],
          "name": "stdout"
        },
        {
          "output_type": "display_data",
          "data": {
            "image/png": "[encoded data removed]",
            "text/plain": [
              "<Figure size 432x288 with 2 Axes>"
            ]
          },
          "metadata": {
            "tags": [],
            "needs_background": "light"
          }
        }
      ]
    }
  ]
}